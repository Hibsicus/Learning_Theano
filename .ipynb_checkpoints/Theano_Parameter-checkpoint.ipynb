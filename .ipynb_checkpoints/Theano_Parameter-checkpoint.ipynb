{
 "cells": [
  {
   "cell_type": "code",
   "execution_count": 8,
   "metadata": {
    "collapsed": false
   },
   "outputs": [
    {
     "name": "stdout",
     "output_type": "stream",
     "text": [
      "0.0\n",
      "1.0\n",
      "11.0\n",
      "2.0\n",
      "8.0\n",
      "2.0\n"
     ]
    }
   ],
   "source": [
    "import numpy as np\n",
    "import theano\n",
    "import theano.tensor as T\n",
    "\n",
    "state = theano.shared(np.array(0, dtype=np.float64),'state')\n",
    "inc = T.scalar('inc',dtype = state.dtype)\n",
    "accumulator = theano.function([inc], state, updates=[(state, state + inc)])\n",
    "\n",
    "\n",
    "#to get variable value\n",
    "print(state.get_value())\n",
    "accumulator(1)\n",
    "print(state.get_value())\n",
    "accumulator(10)\n",
    "print(state.get_value())\n",
    "\n",
    "#to set variable value\n",
    "state.set_value(-1)\n",
    "accumulator(3)\n",
    "print(state.get_value())\n",
    "\n",
    "\n",
    "#temporarily replace shared variable with another value\n",
    "temp_func = state * 2 + inc\n",
    "a = T.scalar(dtype=state.dtype)\n",
    "skip_shared = theano.function([inc, a], temp_func, givens=[(state, a)])\n",
    "print(skip_shared(2,3))\n",
    "print(state.get_value())"
   ]
  },
  {
   "cell_type": "code",
   "execution_count": null,
   "metadata": {
    "collapsed": true
   },
   "outputs": [],
   "source": []
  },
  {
   "cell_type": "code",
   "execution_count": null,
   "metadata": {
    "collapsed": true
   },
   "outputs": [],
   "source": []
  },
  {
   "cell_type": "code",
   "execution_count": null,
   "metadata": {
    "collapsed": true
   },
   "outputs": [],
   "source": []
  },
  {
   "cell_type": "code",
   "execution_count": null,
   "metadata": {
    "collapsed": true
   },
   "outputs": [],
   "source": []
  },
  {
   "cell_type": "code",
   "execution_count": null,
   "metadata": {
    "collapsed": true
   },
   "outputs": [],
   "source": []
  }
 ],
 "metadata": {
  "kernelspec": {
   "display_name": "Python 3",
   "language": "python",
   "name": "python3"
  },
  "language_info": {
   "codemirror_mode": {
    "name": "ipython",
    "version": 3
   },
   "file_extension": ".py",
   "mimetype": "text/x-python",
   "name": "python",
   "nbconvert_exporter": "python",
   "pygments_lexer": "ipython3",
   "version": "3.6.0"
  }
 },
 "nbformat": 4,
 "nbformat_minor": 2
}
