{
 "cells": [
  {
   "cell_type": "code",
   "execution_count": 18,
   "metadata": {
    "collapsed": false
   },
   "outputs": [
    {
     "name": "stdout",
     "output_type": "stream",
     "text": [
      "[[ 0.5         0.73105858]\n",
      " [ 0.11920292  0.04742587]]\n",
      "[[ 1.  0.]\n",
      " [-1. -2.]] [[ 1.  0.]\n",
      " [ 1.  2.]] [[ 2.  0.]\n",
      " [-2. -4.]]\n",
      "100.0\n"
     ]
    }
   ],
   "source": [
    "import numpy as np\n",
    "import theano.tensor as T\n",
    "import theano\n",
    "\n",
    "#activation function example\n",
    "x = T.dmatrix('x')\n",
    "s = 1 / (1 + T.exp(-x))\n",
    "\n",
    "logistic = theano.function([x],s)\n",
    "print(logistic([[0,1],[-2,-3]]))\n",
    "\n",
    "#multiply outputs for a function\n",
    "a, b = T.dmatrices('a','b')\n",
    "diff = a - b\n",
    "abs_diff = abs(diff)\n",
    "diff_squared = diff * 2\n",
    "f = theano.function([a,b], [diff, abs_diff, diff_squared])\n",
    "x1, x2, x3 = f(np.ones((2,2)), np.arange(4).reshape((2,2)))\n",
    "print(x1,x2,x3)\n",
    "\n",
    "#name for a function\n",
    "x,y,w = T.dscalars('x', 'y', 'w')\n",
    "z = (x + y) * w\n",
    "f = theano.function([x, \n",
    "                     theano.In(y,value=1), \n",
    "                    theano.In(w,value=2, name = 'weight')], \n",
    "                   z)\n",
    "print(f(23, 2, weight = 4))"
   ]
  },
  {
   "cell_type": "code",
   "execution_count": null,
   "metadata": {
    "collapsed": true
   },
   "outputs": [],
   "source": []
  },
  {
   "cell_type": "code",
   "execution_count": null,
   "metadata": {
    "collapsed": true
   },
   "outputs": [],
   "source": []
  },
  {
   "cell_type": "code",
   "execution_count": null,
   "metadata": {
    "collapsed": true
   },
   "outputs": [],
   "source": []
  }
 ],
 "metadata": {
  "kernelspec": {
   "display_name": "Python 3",
   "language": "python",
   "name": "python3"
  },
  "language_info": {
   "codemirror_mode": {
    "name": "ipython",
    "version": 3
   },
   "file_extension": ".py",
   "mimetype": "text/x-python",
   "name": "python",
   "nbconvert_exporter": "python",
   "pygments_lexer": "ipython3",
   "version": "3.6.0"
  }
 },
 "nbformat": 4,
 "nbformat_minor": 2
}
